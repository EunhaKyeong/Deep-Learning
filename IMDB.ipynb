{
 "cells": [
  {
   "cell_type": "code",
   "execution_count": 2,
   "id": "lined-storm",
   "metadata": {},
   "outputs": [],
   "source": [
    "from keras import models\n",
    "from keras import layers\n",
    "from keras import optimizers\n",
    "from keras import losses\n",
    "from keras import metrics\n",
    "\n",
    "from keras.datasets import imdb\n",
    "\n",
    "import numpy as np\n",
    "\n",
    "import matplotlib.pyplot as plt"
   ]
  },
  {
   "cell_type": "markdown",
   "id": "inner-andrew",
   "metadata": {},
   "source": [
    "## Sequential class"
   ]
  },
  {
   "cell_type": "markdown",
   "id": "alike-sucking",
   "metadata": {},
   "source": [
    "### 학습 모델 설계"
   ]
  },
  {
   "cell_type": "code",
   "execution_count": 3,
   "id": "radio-tender",
   "metadata": {},
   "outputs": [],
   "source": [
    "model = models.Sequential()\n",
    "model.add(layers.Dense(32, activation='relu', input_shape=(784, )))\n",
    "model.add(layers.Dense(10, activation='softmax'))"
   ]
  },
  {
   "cell_type": "markdown",
   "id": "acute-interference",
   "metadata": {},
   "source": [
    "- 총 2개의 layer를 만든다.  \n",
    "- 첫번째 layer는 총 32개의 노드를 가지고 있고, activation 함수로 relu를 사용한다. 그리고 입력값으로는 784 크기를 가진 1차원 배열을 받는다.(즉, 입력값이 784개 들어온다.)  \n",
    "- 두번째 layer는 총 10개의 노드를 가지고 있고, 활성화 함수로 softmax를 사용한다. node의 개수가 10개인 이유는 output의 카테고리가 총 10개이기 때문이다."
   ]
  },
  {
   "cell_type": "markdown",
   "id": "floppy-commissioner",
   "metadata": {},
   "source": [
    "### compile()\n",
    "학습 모델의 optimizer, loss function, metrics를 configuration 해줌."
   ]
  },
  {
   "cell_type": "code",
   "execution_count": 6,
   "id": "industrial-retention",
   "metadata": {},
   "outputs": [],
   "source": [
    "model.compile(optimizer=optimizers.RMSprop(lr=0.001), loss='mse', metrics=['accuracy'])"
   ]
  },
  {
   "cell_type": "markdown",
   "id": "signed-dublin",
   "metadata": {},
   "source": [
    "해당 모델은 RMSprop 활성화 함수를 사용하고, 이때의 학습률은 0.001이다. 손실 함수로는 mse를 사용하고, 평가 지표로는 'accracy'를 사용해 단위는 %를 사용한다."
   ]
  },
  {
   "cell_type": "markdown",
   "id": "gross-azerbaijan",
   "metadata": {},
   "source": [
    "### fit() -> 모델 학습\n",
    "학습 데이터를 이용해 모델을 학습시킨다. 이 때 parameter값으로 batch_size, epochs를 설정해준다.  \n",
    "`epochs`  \n",
    "전체 학습 데이터가 forward -> backpropagtion을 완료한 경우를 1번의 epochs라 한다.(=한 번의 최적화 과정을 거쳤다.)  \n",
    "`batch_size`  \n",
    "전체 학습 데이터의 크기가 클 때 batch_size만큼 데이터를 나눠서 학습한다.  \n",
    "ex) data size=100, batch_size=10이라 하면 1번의 epochs가 수행되는데 총 10번의 iteration이 동작한다."
   ]
  },
  {
   "cell_type": "code",
   "execution_count": null,
   "id": "alien-refund",
   "metadata": {},
   "outputs": [],
   "source": [
    "model.fit(input데이터, target데이터, batch_size=128, epochs=10)"
   ]
  },
  {
   "cell_type": "markdown",
   "id": "harmful-junior",
   "metadata": {},
   "source": [
    "## IMDB\n",
    "- 총 50,000개의 데이터, 25,000개는 train 데이터, 25,000개는 test 데이터  \n",
    "- target 값은 0(부정)과 1(긍정) binary target"
   ]
  },
  {
   "cell_type": "markdown",
   "id": "opposite-contribution",
   "metadata": {},
   "source": [
    "### Data load\n",
    "num_words : 빈출 단어중 상위 10000개까지의 단어만 보여주겠다는 parameter.  \n",
    "만약 10000이 넘어가는 단어가 등장하면 imdb.load_data의 parameter인 oov_char에 저장된 인덱스의 단어로 대체함.(default : 2)"
   ]
  },
  {
   "cell_type": "code",
   "execution_count": 129,
   "id": "consecutive-rebel",
   "metadata": {},
   "outputs": [],
   "source": [
    "(train_data, train_labels), (test_data, test_labels) = imdb.load_data(num_words=10000)"
   ]
  },
  {
   "cell_type": "code",
   "execution_count": 130,
   "id": "engaged-kernel",
   "metadata": {
    "scrolled": false
   },
   "outputs": [],
   "source": [
    "word_index = imdb.get_word_index()\n",
    "reverse_word_index = dict (\n",
    "    [(value, key) for (key, value) in word_index.items()])"
   ]
  },
  {
   "cell_type": "markdown",
   "id": "former-macintosh",
   "metadata": {},
   "source": [
    "단어사전에서 0은 패딩, 1은 문서 시작, 2는 사전에 없음임. -> 그래서 oov_char의 default value가 2이다.  \n",
    "따라서 진짜 해당 문장의 단어를 알기 위해서는 결과로 `저장된 단어 인덱스-3`을 해 줘야 한다.  "
   ]
  },
  {
   "cell_type": "code",
   "execution_count": 131,
   "id": "accessory-durham",
   "metadata": {},
   "outputs": [],
   "source": [
    "decoded_review = ' '.join(\n",
    "    [reverse_word_index.get(i-3, '?') for i in train_data[11]])"
   ]
  },
  {
   "cell_type": "code",
   "execution_count": 132,
   "id": "contrary-broadcast",
   "metadata": {},
   "outputs": [
    {
     "data": {
      "text/plain": [
       "\"? when i rented this movie i had very low expectations but when i saw it i realized that the movie was less a lot less than what i expected the actors were bad the doctor's wife was one of the worst the story was so stupid it could work for a disney movie except for the murders but this one is not a comedy it is a laughable masterpiece of stupidity the title is well chosen except for one thing they could add stupid movie after dead husbands i give it 0 and a half out of 5\""
      ]
     },
     "execution_count": 132,
     "metadata": {},
     "output_type": "execute_result"
    }
   ],
   "source": [
    "decoded_review"
   ]
  },
  {
   "cell_type": "markdown",
   "id": "distinguished-reset",
   "metadata": {},
   "source": [
    "### One-hot Encoding\n",
    "- 문장 별로 총 단어사전의 단어 갯수만큼의 원소 갯수로 된 벡터를 만든다.  \n",
    "- 만약에 해당 문장의 리스트가 [0, 3, 2, 6, 5, 5, 5, 5, 5, 5]라면 벡터에서 0, 2, 3, 5, 6 요소는 1, 나머지는 0으로 변환한다.  \n",
    "- 즉, 벡터에서 해당 문장에 사용된 단어들만 1로 표시한다."
   ]
  },
  {
   "cell_type": "code",
   "execution_count": 163,
   "id": "arabic-norfolk",
   "metadata": {},
   "outputs": [],
   "source": [
    "def vectorize_sequences(sequences, dimension=10000):\n",
    "    results = np.zeros((len(sequences), dimension))\n",
    "    \n",
    "    for i, sequence in enumerate(sequences):\n",
    "        results[i, sequence] = 1.\n",
    "    return results\n",
    "\n",
    "x_train = vectorize_sequences(train_data)\n",
    "x_test = vectorize_sequences(test_data)"
   ]
  },
  {
   "cell_type": "markdown",
   "id": "answering-jewelry",
   "metadata": {},
   "source": [
    "### labels는 int형 -> float32형으로 타입변환"
   ]
  },
  {
   "cell_type": "code",
   "execution_count": 164,
   "id": "delayed-fight",
   "metadata": {},
   "outputs": [],
   "source": [
    "y_train = np.asarray(train_labels).astype('float32')\n",
    "y_test = np.asarray(test_labels).astype('float32')"
   ]
  },
  {
   "cell_type": "markdown",
   "id": "later-portable",
   "metadata": {},
   "source": [
    "### Model Layer 만들기"
   ]
  },
  {
   "cell_type": "code",
   "execution_count": 165,
   "id": "needed-anderson",
   "metadata": {},
   "outputs": [],
   "source": [
    "model = models.Sequential()\n",
    "model.add(layers.Dense(16, activation='relu', input_shape=(10000, )))\n",
    "model.add(layers.Dense(16, activation='relu'))\n",
    "model.add(layers.Dense(1, activation='sigmoid'))"
   ]
  },
  {
   "cell_type": "markdown",
   "id": "abroad-louisiana",
   "metadata": {},
   "source": [
    "### Train data를 validation data와 train data로 분리하기\n",
    "Train data에 너무 최적화되도록 train 시키다 보면 train data에서만 예측이 잘 되는, 즉 `overfitting`된 결과를 얻게 된다.  \n",
    "이를 대비하기 위해(=overfitting이 됐는지 확인하기 위해) train data를 validation data와 train data로 분리한다.  \n",
    "train data로 fit을 한 후 validation data를 통해 overfitting이 발생했는지 검증한다."
   ]
  },
  {
   "cell_type": "code",
   "execution_count": 166,
   "id": "sexual-scout",
   "metadata": {},
   "outputs": [],
   "source": [
    "x_val = x_train[:10000]    #검증데이터\n",
    "partial_x_train = x_train[10000:]    #훈련데이터\n",
    "y_val = y_train[:10000]\n",
    "partial_y_train = y_train[10000:]"
   ]
  },
  {
   "cell_type": "markdown",
   "id": "induced-investing",
   "metadata": {},
   "source": [
    "### train - compile()"
   ]
  },
  {
   "cell_type": "code",
   "execution_count": 167,
   "id": "worldwide-chest",
   "metadata": {},
   "outputs": [],
   "source": [
    "model.compile(optimizer='rmsprop', loss='binary_crossentropy', metrics=['accuracy'])"
   ]
  },
  {
   "cell_type": "markdown",
   "id": "meaningful-economy",
   "metadata": {},
   "source": [
    "### train - fit()"
   ]
  },
  {
   "cell_type": "code",
   "execution_count": 146,
   "id": "black-treat",
   "metadata": {},
   "outputs": [
    {
     "name": "stdout",
     "output_type": "stream",
     "text": [
      "Epoch 1/20\n",
      "30/30 [==============================] - 2s 62ms/step - loss: 0.5114 - acc: 0.7838 - val_loss: 0.3932 - val_acc: 0.8601\n",
      "Epoch 2/20\n",
      "30/30 [==============================] - 1s 22ms/step - loss: 0.3096 - acc: 0.9019 - val_loss: 0.3051 - val_acc: 0.8861\n",
      "Epoch 3/20\n",
      "30/30 [==============================] - 1s 22ms/step - loss: 0.2249 - acc: 0.9283 - val_loss: 0.3404 - val_acc: 0.8588\n",
      "Epoch 4/20\n",
      "30/30 [==============================] - 1s 21ms/step - loss: 0.1784 - acc: 0.9425 - val_loss: 0.2743 - val_acc: 0.8900\n",
      "Epoch 5/20\n",
      "30/30 [==============================] - 1s 19ms/step - loss: 0.1414 - acc: 0.9577 - val_loss: 0.2858 - val_acc: 0.8849\n",
      "Epoch 6/20\n",
      "30/30 [==============================] - 1s 18ms/step - loss: 0.1188 - acc: 0.9635 - val_loss: 0.3029 - val_acc: 0.8828\n",
      "Epoch 7/20\n",
      "30/30 [==============================] - 1s 19ms/step - loss: 0.0953 - acc: 0.9723 - val_loss: 0.3090 - val_acc: 0.8841\n",
      "Epoch 8/20\n",
      "30/30 [==============================] - 1s 19ms/step - loss: 0.0792 - acc: 0.9777 - val_loss: 0.3462 - val_acc: 0.8776\n",
      "Epoch 9/20\n",
      "30/30 [==============================] - 1s 18ms/step - loss: 0.0642 - acc: 0.9829 - val_loss: 0.3652 - val_acc: 0.8751\n",
      "Epoch 10/20\n",
      "30/30 [==============================] - 1s 18ms/step - loss: 0.0536 - acc: 0.9861 - val_loss: 0.3869 - val_acc: 0.8748\n",
      "Epoch 11/20\n",
      "30/30 [==============================] - 1s 19ms/step - loss: 0.0416 - acc: 0.9900 - val_loss: 0.4521 - val_acc: 0.8697\n",
      "Epoch 12/20\n",
      "30/30 [==============================] - 1s 18ms/step - loss: 0.0354 - acc: 0.9919 - val_loss: 0.4445 - val_acc: 0.8721\n",
      "Epoch 13/20\n",
      "30/30 [==============================] - 1s 18ms/step - loss: 0.0275 - acc: 0.9940 - val_loss: 0.4993 - val_acc: 0.8687\n",
      "Epoch 14/20\n",
      "30/30 [==============================] - 1s 18ms/step - loss: 0.0219 - acc: 0.9966 - val_loss: 0.5042 - val_acc: 0.8683\n",
      "Epoch 15/20\n",
      "30/30 [==============================] - 1s 19ms/step - loss: 0.0165 - acc: 0.9975 - val_loss: 0.5600 - val_acc: 0.8679\n",
      "Epoch 16/20\n",
      "30/30 [==============================] - 1s 21ms/step - loss: 0.0170 - acc: 0.9969 - val_loss: 0.5652 - val_acc: 0.8688\n",
      "Epoch 17/20\n",
      "30/30 [==============================] - 1s 19ms/step - loss: 0.0083 - acc: 0.9996 - val_loss: 0.6039 - val_acc: 0.8689\n",
      "Epoch 18/20\n",
      "30/30 [==============================] - 1s 18ms/step - loss: 0.0101 - acc: 0.9983 - val_loss: 0.6343 - val_acc: 0.8659\n",
      "Epoch 19/20\n",
      "30/30 [==============================] - 1s 18ms/step - loss: 0.0066 - acc: 0.9993 - val_loss: 0.6695 - val_acc: 0.8659\n",
      "Epoch 20/20\n",
      "30/30 [==============================] - 1s 18ms/step - loss: 0.0068 - acc: 0.9987 - val_loss: 0.7082 - val_acc: 0.8664\n"
     ]
    }
   ],
   "source": [
    "history = model.fit(partial_x_train, partial_y_train, epochs=20, batch_size=512, validation_data=(x_val, y_val))"
   ]
  },
  {
   "cell_type": "code",
   "execution_count": 149,
   "id": "norman-delta",
   "metadata": {},
   "outputs": [
    {
     "data": {
      "text/plain": [
       "dict_keys(['loss', 'acc', 'val_loss', 'val_acc'])"
      ]
     },
     "execution_count": 149,
     "metadata": {},
     "output_type": "execute_result"
    }
   ],
   "source": [
    "history_dict = history.history    #학습된 모델의 결과 정보를 담고 있는 dictionary\n",
    "history_dict.keys()"
   ]
  },
  {
   "cell_type": "markdown",
   "id": "ordinary-farmer",
   "metadata": {},
   "source": [
    "### 학습된 결과 확인하기 - train_data와 validation_data의 결과를 비교해 overfitting이 발생하는지 확인\n",
    "epochs이 20이기 때문에 총 각 key당 20개의 결과 데이터를 저장하고 있음."
   ]
  },
  {
   "cell_type": "code",
   "execution_count": 153,
   "id": "breeding-refrigerator",
   "metadata": {},
   "outputs": [
    {
     "data": {
      "image/png": "[encoded data removed]",
      "text/plain": [
       "<Figure size 432x288 with 1 Axes>"
      ]
     },
     "metadata": {
      "needs_background": "light"
     },
     "output_type": "display_data"
    }
   ],
   "source": [
    "loss_values = history_dict['loss']    # train data의 loss\n",
    "val_loss_values = history_dict['val_loss']    # validation data의 loss\n",
    "epochs = range(1, len(history_dict['acc'])+1)\n",
    "\n",
    "plt.plot(epochs, loss_values, 'bo', label='Training loss')\n",
    "plt.plot(epochs, val_loss_values, 'b', label='Validation loss')\n",
    "plt.title('Training and validation loss')\n",
    "plt.xlabel('Epochs')\n",
    "plt.ylabel('Loss')\n",
    "plt.legend()\n",
    "plt.show()"
   ]
  },
  {
   "cell_type": "code",
   "execution_count": 154,
   "id": "beneficial-baker",
   "metadata": {
    "scrolled": true
   },
   "outputs": [
    {
     "data": {
      "image/png": "[encoded data removed]",
      "text/plain": [
       "<Figure size 432x288 with 1 Axes>"
      ]
     },
     "metadata": {
      "needs_background": "light"
     },
     "output_type": "display_data"
    }
   ],
   "source": [
    "acc_values = history_dict['acc']    # train data의 acc\n",
    "val_acc_values = history_dict['val_acc']    # validation data의 loss\n",
    "epochs = range(1, len(history_dict['acc'])+1)\n",
    "\n",
    "plt.plot(epochs, acc_values, 'bo', label='Training accuracy')\n",
    "plt.plot(epochs, val_acc_values, 'b', label='Validation accuracy')\n",
    "plt.title('Training and validation accuracy')\n",
    "plt.xlabel('Epochs')\n",
    "plt.ylabel('Accuracy')\n",
    "plt.legend()\n",
    "plt.show()"
   ]
  },
  {
   "cell_type": "markdown",
   "id": "floppy-blame",
   "metadata": {},
   "source": [
    "확인 결과 epochs가 4를 넘어가는 순간 overfitting이 발생 -> `epochs=4로 수정`"
   ]
  },
  {
   "cell_type": "code",
   "execution_count": 172,
   "id": "least-empire",
   "metadata": {},
   "outputs": [
    {
     "name": "stdout",
     "output_type": "stream",
     "text": [
      "Epoch 1/4\n",
      "30/30 [==============================] - 1s 37ms/step - loss: 0.5342 - accuracy: 0.7853 - val_loss: 0.4022 - val_accuracy: 0.8720\n",
      "Epoch 2/4\n",
      "30/30 [==============================] - 1s 22ms/step - loss: 0.3222 - accuracy: 0.9022 - val_loss: 0.3131 - val_accuracy: 0.8867\n",
      "Epoch 3/4\n",
      "30/30 [==============================] - 1s 22ms/step - loss: 0.2337 - accuracy: 0.9271 - val_loss: 0.2816 - val_accuracy: 0.8926\n",
      "Epoch 4/4\n",
      "30/30 [==============================] - 1s 20ms/step - loss: 0.1845 - accuracy: 0.9409 - val_loss: 0.2820 - val_accuracy: 0.8869\n"
     ]
    }
   ],
   "source": [
    "model = models.Sequential()\n",
    "model.add(layers.Dense(16, activation='relu', input_shape=(10000, )))\n",
    "model.add(layers.Dense(16, activation='relu'))\n",
    "model.add(layers.Dense(1, activation='sigmoid'))\n",
    "\n",
    "model.compile(optimizer='rmsprop', loss='binary_crossentropy', metrics=['accuracy'])\n",
    "\n",
    "history = model.fit(partial_x_train, partial_y_train, epochs=4, batch_size=512, validation_data=(x_val, y_val))"
   ]
  },
  {
   "cell_type": "code",
   "execution_count": 173,
   "id": "thirty-trademark",
   "metadata": {},
   "outputs": [
    {
     "name": "stdout",
     "output_type": "stream",
     "text": [
      "Epoch 1/4\n",
      "30/30 [==============================] - 1s 46ms/step - loss: 0.5111 - binary_accuracy: 0.7967 - val_loss: 0.3858 - val_binary_accuracy: 0.8711\n",
      "Epoch 2/4\n",
      "30/30 [==============================] - 1s 35ms/step - loss: 0.3109 - binary_accuracy: 0.8963 - val_loss: 0.3119 - val_binary_accuracy: 0.8838\n",
      "Epoch 3/4\n",
      "30/30 [==============================] - 1s 24ms/step - loss: 0.2297 - binary_accuracy: 0.9247 - val_loss: 0.2806 - val_binary_accuracy: 0.8910\n",
      "Epoch 4/4\n",
      "30/30 [==============================] - 1s 24ms/step - loss: 0.1780 - binary_accuracy: 0.9413 - val_loss: 0.2738 - val_binary_accuracy: 0.8911\n"
     ]
    }
   ],
   "source": [
    "model = models.Sequential()\n",
    "model.add(layers.Dense(16, activation='relu', input_shape=(10000, )))\n",
    "model.add(layers.Dense(16, activation='relu'))\n",
    "model.add(layers.Dense(1, activation='sigmoid'))\n",
    "\n",
    "model.compile(optimizer='rmsprop', loss='binary_crossentropy', metrics=['binary_accuracy'])\n",
    "\n",
    "history = model.fit(partial_x_train, partial_y_train, epochs=4, batch_size=512, validation_data=(x_val, y_val))"
   ]
  },
  {
   "cell_type": "markdown",
   "id": "capable-briefing",
   "metadata": {},
   "source": [
    "### Test data 학습시키기 - evaluate()"
   ]
  },
  {
   "cell_type": "code",
   "execution_count": 169,
   "id": "naked-server",
   "metadata": {
    "scrolled": true
   },
   "outputs": [
    {
     "name": "stdout",
     "output_type": "stream",
     "text": [
      "782/782 [==============================] - 2s 2ms/step - loss: 0.2996 - accuracy: 0.8783\n"
     ]
    }
   ],
   "source": [
    "results = model.evaluate(x_test, y_test)"
   ]
  },
  {
   "cell_type": "code",
   "execution_count": null,
   "id": "secure-thread",
   "metadata": {},
   "outputs": [],
   "source": []
  },
  {
   "cell_type": "code",
   "execution_count": 170,
   "id": "toxic-banking",
   "metadata": {},
   "outputs": [
    {
     "data": {
      "text/plain": [
       "array([[0.2957167 ],\n",
       "       [0.9994489 ],\n",
       "       [0.8209836 ],\n",
       "       ...,\n",
       "       [0.10351074],\n",
       "       [0.1374551 ],\n",
       "       [0.5163687 ]], dtype=float32)"
      ]
     },
     "execution_count": 170,
     "metadata": {},
     "output_type": "execute_result"
    }
   ],
   "source": [
    "model.predict(x_test)    #예측값 확인하기 - 예측값이 0에 가까울수록 부정, 1에 가까울수록 긍정"
   ]
  }
 ],
 "metadata": {
  "kernelspec": {
   "display_name": "Python 3",
   "language": "python",
   "name": "python3"
  },
  "language_info": {
   "codemirror_mode": {
    "name": "ipython",
    "version": 3
   },
   "file_extension": ".py",
   "mimetype": "text/x-python",
   "name": "python",
   "nbconvert_exporter": "python",
   "pygments_lexer": "ipython3",
   "version": "3.8.8"
  }
 },
 "nbformat": 4,
 "nbformat_minor": 5
}
